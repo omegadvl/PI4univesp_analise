{
 "cells": [
  {
   "cell_type": "markdown",
   "id": "59dfe686-13f4-4406-a9b9-d2c083e6401a",
   "metadata": {},
   "source": [
    "# Carregamentos"
   ]
  },
  {
   "cell_type": "markdown",
   "id": "73bc0c46-d48e-4513-bb93-f8744dfa7dc7",
   "metadata": {},
   "source": [
    "## Bibliotecas"
   ]
  },
  {
   "cell_type": "code",
   "execution_count": 62,
   "id": "68096694-6ac1-4613-93e7-8e578425baba",
   "metadata": {},
   "outputs": [],
   "source": [
    "# pip install simpledbf"
   ]
  },
  {
   "cell_type": "code",
   "execution_count": 64,
   "id": "effc6a99-db98-41e6-bc85-61dae9e833ec",
   "metadata": {},
   "outputs": [],
   "source": [
    "# pip install dbfread"
   ]
  },
  {
   "cell_type": "code",
   "execution_count": 66,
   "id": "ea4418ea-fcbf-4e2f-89f4-547cfd707153",
   "metadata": {},
   "outputs": [],
   "source": [
    "import pandas as pd\n",
    "# from simpledbf import Dbf5\n",
    "from dbfread import DBF"
   ]
  },
  {
   "cell_type": "markdown",
   "id": "b4f67ad4-3d35-4873-bc3b-7d3ed3eeb078",
   "metadata": {},
   "source": [
    "## Dados"
   ]
  },
  {
   "cell_type": "markdown",
   "id": "5fa079f0-8797-4b09-86cc-962e3e0153d2",
   "metadata": {},
   "source": [
    "### Carregamento dos arquivos DBF"
   ]
  },
  {
   "cell_type": "code",
   "execution_count": 68,
   "id": "17ee01ae-762b-4756-b7d6-b0515c02af63",
   "metadata": {
    "editable": true,
    "slideshow": {
     "slide_type": ""
    },
    "tags": []
   },
   "outputs": [],
   "source": [
    "dbf_amazon = DBF('../../data/raw/amazonia/yearly_deforestation/yearly_deforestation.dbf')"
   ]
  },
  {
   "cell_type": "markdown",
   "id": "ecd64a84-91a7-4b1a-91f8-6e30ebf08b77",
   "metadata": {},
   "source": [
    "### Conversão em dataframes pandas"
   ]
  },
  {
   "cell_type": "code",
   "execution_count": 71,
   "id": "9630cd8c-3e40-4579-a4c6-acfcb5cc03d5",
   "metadata": {},
   "outputs": [],
   "source": [
    "df_amazon_raw = pd.DataFrame(iter(dbf))"
   ]
  },
  {
   "cell_type": "markdown",
   "id": "1370f5a1-6f0f-4406-a34e-ee60366d22eb",
   "metadata": {},
   "source": [
    "# Exploração"
   ]
  },
  {
   "cell_type": "markdown",
   "id": "ce46e512-ade5-44df-8423-083634e953d2",
   "metadata": {},
   "source": [
    "Aparencia das primeiras linhas do dataframe, para avaliação visual da qualidade dos dados"
   ]
  },
  {
   "cell_type": "code",
   "execution_count": 72,
   "id": "26b1b97a-19b3-4c77-a1f7-ab69f12fab38",
   "metadata": {},
   "outputs": [
    {
     "data": {
      "text/html": [
       "<div>\n",
       "<style scoped>\n",
       "    .dataframe tbody tr th:only-of-type {\n",
       "        vertical-align: middle;\n",
       "    }\n",
       "\n",
       "    .dataframe tbody tr th {\n",
       "        vertical-align: top;\n",
       "    }\n",
       "\n",
       "    .dataframe thead th {\n",
       "        text-align: right;\n",
       "    }\n",
       "</style>\n",
       "<table border=\"1\" class=\"dataframe\">\n",
       "  <thead>\n",
       "    <tr style=\"text-align: right;\">\n",
       "      <th></th>\n",
       "      <th>fid</th>\n",
       "      <th>state</th>\n",
       "      <th>path_row</th>\n",
       "      <th>main_class</th>\n",
       "      <th>class_name</th>\n",
       "      <th>sub_class</th>\n",
       "      <th>def_cloud</th>\n",
       "      <th>julian_day</th>\n",
       "      <th>image_date</th>\n",
       "      <th>year</th>\n",
       "      <th>area_km</th>\n",
       "      <th>scene_id</th>\n",
       "      <th>source</th>\n",
       "      <th>satellite</th>\n",
       "      <th>sensor</th>\n",
       "      <th>uuid</th>\n",
       "    </tr>\n",
       "  </thead>\n",
       "  <tbody>\n",
       "    <tr>\n",
       "      <th>0</th>\n",
       "      <td>16</td>\n",
       "      <td>AM</td>\n",
       "      <td>00166</td>\n",
       "      <td>DESMATAMENTO</td>\n",
       "      <td>d2021</td>\n",
       "      <td>d2021</td>\n",
       "      <td>NaN</td>\n",
       "      <td>211</td>\n",
       "      <td>2021-07-30</td>\n",
       "      <td>2021.0</td>\n",
       "      <td>6.335015</td>\n",
       "      <td>951.0</td>\n",
       "      <td></td>\n",
       "      <td></td>\n",
       "      <td></td>\n",
       "      <td>0987ddbe-9f23-4cec-91d3-2a06032c29e8</td>\n",
       "    </tr>\n",
       "    <tr>\n",
       "      <th>1</th>\n",
       "      <td>24</td>\n",
       "      <td>MT</td>\n",
       "      <td>22768</td>\n",
       "      <td>DESMATAMENTO</td>\n",
       "      <td>d2015</td>\n",
       "      <td>d2015</td>\n",
       "      <td>0.0</td>\n",
       "      <td>226</td>\n",
       "      <td>2015-08-14</td>\n",
       "      <td>2015.0</td>\n",
       "      <td>0.778199</td>\n",
       "      <td>2491.0</td>\n",
       "      <td></td>\n",
       "      <td></td>\n",
       "      <td></td>\n",
       "      <td>1c19e5ee-db69-4f54-88d8-159dc554d2fe</td>\n",
       "    </tr>\n",
       "    <tr>\n",
       "      <th>2</th>\n",
       "      <td>59687</td>\n",
       "      <td>PA</td>\n",
       "      <td>22562</td>\n",
       "      <td>DESMATAMENTO</td>\n",
       "      <td>d2015</td>\n",
       "      <td>d2015</td>\n",
       "      <td>0.0</td>\n",
       "      <td>196</td>\n",
       "      <td>2015-07-15</td>\n",
       "      <td>2015.0</td>\n",
       "      <td>0.005600</td>\n",
       "      <td>2573.0</td>\n",
       "      <td></td>\n",
       "      <td></td>\n",
       "      <td></td>\n",
       "      <td>845e0d68-29ca-471a-999a-83b1e040b13a</td>\n",
       "    </tr>\n",
       "    <tr>\n",
       "      <th>3</th>\n",
       "      <td>59688</td>\n",
       "      <td>PA</td>\n",
       "      <td>22562</td>\n",
       "      <td>DESMATAMENTO</td>\n",
       "      <td>d2015</td>\n",
       "      <td>d2015</td>\n",
       "      <td>0.0</td>\n",
       "      <td>196</td>\n",
       "      <td>2015-07-15</td>\n",
       "      <td>2015.0</td>\n",
       "      <td>0.000084</td>\n",
       "      <td>2573.0</td>\n",
       "      <td></td>\n",
       "      <td></td>\n",
       "      <td></td>\n",
       "      <td>f7b54b10-bf0e-47ce-8b1b-09776a2dfa70</td>\n",
       "    </tr>\n",
       "    <tr>\n",
       "      <th>4</th>\n",
       "      <td>130</td>\n",
       "      <td>PA</td>\n",
       "      <td>22363</td>\n",
       "      <td>DESMATAMENTO</td>\n",
       "      <td>d2022</td>\n",
       "      <td>corte raso com solo exposto</td>\n",
       "      <td>NaN</td>\n",
       "      <td>209</td>\n",
       "      <td>2022-07-28</td>\n",
       "      <td>2022.0</td>\n",
       "      <td>0.120332</td>\n",
       "      <td>1443.0</td>\n",
       "      <td>Amazonia</td>\n",
       "      <td>Landsat</td>\n",
       "      <td>OLI</td>\n",
       "      <td>260dda0d-6030-4cd0-8141-b97cf9b0f2eb</td>\n",
       "    </tr>\n",
       "  </tbody>\n",
       "</table>\n",
       "</div>"
      ],
      "text/plain": [
       "     fid state path_row    main_class class_name                    sub_class  \\\n",
       "0     16    AM    00166  DESMATAMENTO      d2021                        d2021   \n",
       "1     24    MT    22768  DESMATAMENTO      d2015                        d2015   \n",
       "2  59687    PA    22562  DESMATAMENTO      d2015                        d2015   \n",
       "3  59688    PA    22562  DESMATAMENTO      d2015                        d2015   \n",
       "4    130    PA    22363  DESMATAMENTO      d2022  corte raso com solo exposto   \n",
       "\n",
       "   def_cloud  julian_day  image_date    year   area_km  scene_id    source  \\\n",
       "0        NaN         211  2021-07-30  2021.0  6.335015     951.0             \n",
       "1        0.0         226  2015-08-14  2015.0  0.778199    2491.0             \n",
       "2        0.0         196  2015-07-15  2015.0  0.005600    2573.0             \n",
       "3        0.0         196  2015-07-15  2015.0  0.000084    2573.0             \n",
       "4        NaN         209  2022-07-28  2022.0  0.120332    1443.0  Amazonia   \n",
       "\n",
       "  satellite sensor                                  uuid  \n",
       "0                   0987ddbe-9f23-4cec-91d3-2a06032c29e8  \n",
       "1                   1c19e5ee-db69-4f54-88d8-159dc554d2fe  \n",
       "2                   845e0d68-29ca-471a-999a-83b1e040b13a  \n",
       "3                   f7b54b10-bf0e-47ce-8b1b-09776a2dfa70  \n",
       "4   Landsat    OLI  260dda0d-6030-4cd0-8141-b97cf9b0f2eb  "
      ]
     },
     "execution_count": 72,
     "metadata": {},
     "output_type": "execute_result"
    }
   ],
   "source": [
    "df_amazon_raw.head()"
   ]
  },
  {
   "cell_type": "markdown",
   "id": "b31b1a9e-5c8c-4fb8-981d-94e7987dd05c",
   "metadata": {},
   "source": [
    "Nome das colunas carregadas "
   ]
  },
  {
   "cell_type": "code",
   "execution_count": 76,
   "id": "f57ceaaa-12aa-4a9a-b78d-0d7de85d5eec",
   "metadata": {},
   "outputs": [
    {
     "data": {
      "text/plain": [
       "Index(['fid', 'state', 'path_row', 'main_class', 'class_name', 'sub_class',\n",
       "       'def_cloud', 'julian_day', 'image_date', 'year', 'area_km', 'scene_id',\n",
       "       'source', 'satellite', 'sensor', 'uuid'],\n",
       "      dtype='object')"
      ]
     },
     "execution_count": 76,
     "metadata": {},
     "output_type": "execute_result"
    }
   ],
   "source": [
    "df_amazon_raw.columns"
   ]
  },
  {
   "cell_type": "markdown",
   "id": "84b550e0-d356-4dc7-910e-498385d38b05",
   "metadata": {},
   "source": [
    "Formato do dataframe com número total de linhas e colunas"
   ]
  },
  {
   "cell_type": "code",
   "execution_count": 78,
   "id": "e0794b49-bcf4-4992-ae61-39ad385eeeea",
   "metadata": {},
   "outputs": [
    {
     "data": {
      "text/plain": [
       "(749665, 16)"
      ]
     },
     "execution_count": 78,
     "metadata": {},
     "output_type": "execute_result"
    }
   ],
   "source": [
    "df_amazon_raw.shape"
   ]
  },
  {
   "cell_type": "markdown",
   "id": "c28997d2-daad-4e06-8f38-701c07910cd8",
   "metadata": {},
   "source": [
    "Avaliando as dimensões dos dados é possível inferir que se trate de um apanhado díario de focos de incendio e desmatamento"
   ]
  },
  {
   "cell_type": "markdown",
   "id": "af4a08ba-22ec-4ffe-b2db-351e632eb635",
   "metadata": {},
   "source": [
    "Avaliação das estatisticas descritivas do DF"
   ]
  },
  {
   "cell_type": "code",
   "execution_count": 102,
   "id": "5e42d58f-3a0a-4e51-999e-4436961edb15",
   "metadata": {},
   "outputs": [
    {
     "data": {
      "text/html": [
       "<div>\n",
       "<style scoped>\n",
       "    .dataframe tbody tr th:only-of-type {\n",
       "        vertical-align: middle;\n",
       "    }\n",
       "\n",
       "    .dataframe tbody tr th {\n",
       "        vertical-align: top;\n",
       "    }\n",
       "\n",
       "    .dataframe thead th {\n",
       "        text-align: right;\n",
       "    }\n",
       "</style>\n",
       "<table border=\"1\" class=\"dataframe\">\n",
       "  <thead>\n",
       "    <tr style=\"text-align: right;\">\n",
       "      <th></th>\n",
       "      <th>fid</th>\n",
       "      <th>state</th>\n",
       "      <th>path_row</th>\n",
       "      <th>main_class</th>\n",
       "      <th>class_name</th>\n",
       "      <th>sub_class</th>\n",
       "      <th>def_cloud</th>\n",
       "      <th>julian_day</th>\n",
       "      <th>image_date</th>\n",
       "      <th>year</th>\n",
       "      <th>area_km</th>\n",
       "      <th>scene_id</th>\n",
       "      <th>source</th>\n",
       "      <th>satellite</th>\n",
       "      <th>sensor</th>\n",
       "      <th>uuid</th>\n",
       "    </tr>\n",
       "  </thead>\n",
       "  <tbody>\n",
       "    <tr>\n",
       "      <th>count</th>\n",
       "      <td>749665.000000</td>\n",
       "      <td>749665</td>\n",
       "      <td>749665</td>\n",
       "      <td>749665</td>\n",
       "      <td>749665</td>\n",
       "      <td>749665</td>\n",
       "      <td>591576.000000</td>\n",
       "      <td>749665.000000</td>\n",
       "      <td>749665</td>\n",
       "      <td>749665.000000</td>\n",
       "      <td>7.496650e+05</td>\n",
       "      <td>749635.000000</td>\n",
       "      <td>749665</td>\n",
       "      <td>749665</td>\n",
       "      <td>749665</td>\n",
       "      <td>749665</td>\n",
       "    </tr>\n",
       "    <tr>\n",
       "      <th>unique</th>\n",
       "      <td>NaN</td>\n",
       "      <td>10</td>\n",
       "      <td>210</td>\n",
       "      <td>1</td>\n",
       "      <td>16</td>\n",
       "      <td>20</td>\n",
       "      <td>NaN</td>\n",
       "      <td>NaN</td>\n",
       "      <td>1134</td>\n",
       "      <td>NaN</td>\n",
       "      <td>NaN</td>\n",
       "      <td>NaN</td>\n",
       "      <td>4</td>\n",
       "      <td>3</td>\n",
       "      <td>3</td>\n",
       "      <td>749665</td>\n",
       "    </tr>\n",
       "    <tr>\n",
       "      <th>top</th>\n",
       "      <td>NaN</td>\n",
       "      <td>PA</td>\n",
       "      <td>22463</td>\n",
       "      <td>DESMATAMENTO</td>\n",
       "      <td>d2008</td>\n",
       "      <td>corte raso com solo exposto</td>\n",
       "      <td>NaN</td>\n",
       "      <td>NaN</td>\n",
       "      <td>2019-08-11</td>\n",
       "      <td>NaN</td>\n",
       "      <td>NaN</td>\n",
       "      <td>NaN</td>\n",
       "      <td></td>\n",
       "      <td></td>\n",
       "      <td></td>\n",
       "      <td>0987ddbe-9f23-4cec-91d3-2a06032c29e8</td>\n",
       "    </tr>\n",
       "    <tr>\n",
       "      <th>freq</th>\n",
       "      <td>NaN</td>\n",
       "      <td>342699</td>\n",
       "      <td>36657</td>\n",
       "      <td>749665</td>\n",
       "      <td>68414</td>\n",
       "      <td>75948</td>\n",
       "      <td>NaN</td>\n",
       "      <td>NaN</td>\n",
       "      <td>12111</td>\n",
       "      <td>NaN</td>\n",
       "      <td>NaN</td>\n",
       "      <td>NaN</td>\n",
       "      <td>629131</td>\n",
       "      <td>629130</td>\n",
       "      <td>629130</td>\n",
       "      <td>1</td>\n",
       "    </tr>\n",
       "    <tr>\n",
       "      <th>mean</th>\n",
       "      <td>374833.000000</td>\n",
       "      <td>NaN</td>\n",
       "      <td>NaN</td>\n",
       "      <td>NaN</td>\n",
       "      <td>NaN</td>\n",
       "      <td>NaN</td>\n",
       "      <td>290.211131</td>\n",
       "      <td>220.264435</td>\n",
       "      <td>NaN</td>\n",
       "      <td>2015.874281</td>\n",
       "      <td>1.714922e-01</td>\n",
       "      <td>19130.891589</td>\n",
       "      <td>NaN</td>\n",
       "      <td>NaN</td>\n",
       "      <td>NaN</td>\n",
       "      <td>NaN</td>\n",
       "    </tr>\n",
       "    <tr>\n",
       "      <th>std</th>\n",
       "      <td>216409.789113</td>\n",
       "      <td>NaN</td>\n",
       "      <td>NaN</td>\n",
       "      <td>NaN</td>\n",
       "      <td>NaN</td>\n",
       "      <td>NaN</td>\n",
       "      <td>707.141636</td>\n",
       "      <td>31.145195</td>\n",
       "      <td>NaN</td>\n",
       "      <td>4.825156</td>\n",
       "      <td>5.446836e-01</td>\n",
       "      <td>38157.546721</td>\n",
       "      <td>NaN</td>\n",
       "      <td>NaN</td>\n",
       "      <td>NaN</td>\n",
       "      <td>NaN</td>\n",
       "    </tr>\n",
       "    <tr>\n",
       "      <th>min</th>\n",
       "      <td>1.000000</td>\n",
       "      <td>NaN</td>\n",
       "      <td>NaN</td>\n",
       "      <td>NaN</td>\n",
       "      <td>NaN</td>\n",
       "      <td>NaN</td>\n",
       "      <td>0.000000</td>\n",
       "      <td>1.000000</td>\n",
       "      <td>NaN</td>\n",
       "      <td>2008.000000</td>\n",
       "      <td>3.600000e-14</td>\n",
       "      <td>0.000000</td>\n",
       "      <td>NaN</td>\n",
       "      <td>NaN</td>\n",
       "      <td>NaN</td>\n",
       "      <td>NaN</td>\n",
       "    </tr>\n",
       "    <tr>\n",
       "      <th>25%</th>\n",
       "      <td>187417.000000</td>\n",
       "      <td>NaN</td>\n",
       "      <td>NaN</td>\n",
       "      <td>NaN</td>\n",
       "      <td>NaN</td>\n",
       "      <td>NaN</td>\n",
       "      <td>0.000000</td>\n",
       "      <td>208.000000</td>\n",
       "      <td>NaN</td>\n",
       "      <td>2011.000000</td>\n",
       "      <td>6.355766e-02</td>\n",
       "      <td>816.000000</td>\n",
       "      <td>NaN</td>\n",
       "      <td>NaN</td>\n",
       "      <td>NaN</td>\n",
       "      <td>NaN</td>\n",
       "    </tr>\n",
       "    <tr>\n",
       "      <th>50%</th>\n",
       "      <td>374833.000000</td>\n",
       "      <td>NaN</td>\n",
       "      <td>NaN</td>\n",
       "      <td>NaN</td>\n",
       "      <td>NaN</td>\n",
       "      <td>NaN</td>\n",
       "      <td>0.000000</td>\n",
       "      <td>219.000000</td>\n",
       "      <td>NaN</td>\n",
       "      <td>2016.000000</td>\n",
       "      <td>8.905186e-02</td>\n",
       "      <td>1455.000000</td>\n",
       "      <td>NaN</td>\n",
       "      <td>NaN</td>\n",
       "      <td>NaN</td>\n",
       "      <td>NaN</td>\n",
       "    </tr>\n",
       "    <tr>\n",
       "      <th>75%</th>\n",
       "      <td>562249.000000</td>\n",
       "      <td>NaN</td>\n",
       "      <td>NaN</td>\n",
       "      <td>NaN</td>\n",
       "      <td>NaN</td>\n",
       "      <td>NaN</td>\n",
       "      <td>0.000000</td>\n",
       "      <td>233.000000</td>\n",
       "      <td>NaN</td>\n",
       "      <td>2020.000000</td>\n",
       "      <td>1.506559e-01</td>\n",
       "      <td>2494.000000</td>\n",
       "      <td>NaN</td>\n",
       "      <td>NaN</td>\n",
       "      <td>NaN</td>\n",
       "      <td>NaN</td>\n",
       "    </tr>\n",
       "    <tr>\n",
       "      <th>max</th>\n",
       "      <td>749665.000000</td>\n",
       "      <td>NaN</td>\n",
       "      <td>NaN</td>\n",
       "      <td>NaN</td>\n",
       "      <td>NaN</td>\n",
       "      <td>NaN</td>\n",
       "      <td>2022.000000</td>\n",
       "      <td>363.000000</td>\n",
       "      <td>NaN</td>\n",
       "      <td>2023.000000</td>\n",
       "      <td>1.234758e+02</td>\n",
       "      <td>101293.000000</td>\n",
       "      <td>NaN</td>\n",
       "      <td>NaN</td>\n",
       "      <td>NaN</td>\n",
       "      <td>NaN</td>\n",
       "    </tr>\n",
       "  </tbody>\n",
       "</table>\n",
       "</div>"
      ],
      "text/plain": [
       "                  fid   state path_row    main_class class_name  \\\n",
       "count   749665.000000  749665   749665        749665     749665   \n",
       "unique            NaN      10      210             1         16   \n",
       "top               NaN      PA    22463  DESMATAMENTO      d2008   \n",
       "freq              NaN  342699    36657        749665      68414   \n",
       "mean    374833.000000     NaN      NaN           NaN        NaN   \n",
       "std     216409.789113     NaN      NaN           NaN        NaN   \n",
       "min          1.000000     NaN      NaN           NaN        NaN   \n",
       "25%     187417.000000     NaN      NaN           NaN        NaN   \n",
       "50%     374833.000000     NaN      NaN           NaN        NaN   \n",
       "75%     562249.000000     NaN      NaN           NaN        NaN   \n",
       "max     749665.000000     NaN      NaN           NaN        NaN   \n",
       "\n",
       "                          sub_class      def_cloud     julian_day  image_date  \\\n",
       "count                        749665  591576.000000  749665.000000      749665   \n",
       "unique                           20            NaN            NaN        1134   \n",
       "top     corte raso com solo exposto            NaN            NaN  2019-08-11   \n",
       "freq                          75948            NaN            NaN       12111   \n",
       "mean                            NaN     290.211131     220.264435         NaN   \n",
       "std                             NaN     707.141636      31.145195         NaN   \n",
       "min                             NaN       0.000000       1.000000         NaN   \n",
       "25%                             NaN       0.000000     208.000000         NaN   \n",
       "50%                             NaN       0.000000     219.000000         NaN   \n",
       "75%                             NaN       0.000000     233.000000         NaN   \n",
       "max                             NaN    2022.000000     363.000000         NaN   \n",
       "\n",
       "                 year       area_km       scene_id  source satellite  sensor  \\\n",
       "count   749665.000000  7.496650e+05  749635.000000  749665    749665  749665   \n",
       "unique            NaN           NaN            NaN       4         3       3   \n",
       "top               NaN           NaN            NaN                             \n",
       "freq              NaN           NaN            NaN  629131    629130  629130   \n",
       "mean      2015.874281  1.714922e-01   19130.891589     NaN       NaN     NaN   \n",
       "std          4.825156  5.446836e-01   38157.546721     NaN       NaN     NaN   \n",
       "min       2008.000000  3.600000e-14       0.000000     NaN       NaN     NaN   \n",
       "25%       2011.000000  6.355766e-02     816.000000     NaN       NaN     NaN   \n",
       "50%       2016.000000  8.905186e-02    1455.000000     NaN       NaN     NaN   \n",
       "75%       2020.000000  1.506559e-01    2494.000000     NaN       NaN     NaN   \n",
       "max       2023.000000  1.234758e+02  101293.000000     NaN       NaN     NaN   \n",
       "\n",
       "                                        uuid  \n",
       "count                                 749665  \n",
       "unique                                749665  \n",
       "top     0987ddbe-9f23-4cec-91d3-2a06032c29e8  \n",
       "freq                                       1  \n",
       "mean                                     NaN  \n",
       "std                                      NaN  \n",
       "min                                      NaN  \n",
       "25%                                      NaN  \n",
       "50%                                      NaN  \n",
       "75%                                      NaN  \n",
       "max                                      NaN  "
      ]
     },
     "execution_count": 102,
     "metadata": {},
     "output_type": "execute_result"
    }
   ],
   "source": [
    "df_amazon_raw.describe(include='all')"
   ]
  },
  {
   "cell_type": "code",
   "execution_count": 85,
   "id": "d5a33210-8684-4625-aa4d-82e16a6be13c",
   "metadata": {},
   "outputs": [
    {
     "data": {
      "text/plain": [
       "array(['DESMATAMENTO'], dtype=object)"
      ]
     },
     "execution_count": 85,
     "metadata": {},
     "output_type": "execute_result"
    }
   ],
   "source": [
    "df_amazon_raw['main_class'].unique()"
   ]
  },
  {
   "cell_type": "markdown",
   "id": "5bdf7737-3d67-4cf7-b17d-a86dd4417678",
   "metadata": {},
   "source": [
    "O dataframe apenas apresenta registros classificados como desmatamento, observado pelo valor do atributo Main_class que apenas contém o valor desmatamento"
   ]
  },
  {
   "cell_type": "code",
   "execution_count": 87,
   "id": "cd78e8e9-1052-4315-b5e7-90c480c5e77a",
   "metadata": {},
   "outputs": [
    {
     "data": {
      "text/plain": [
       "array([2021., 2015., 2022., 2023., 2011., 2012., 2013., 2019., 2018.,\n",
       "       2017., 2016., 2009., 2014., 2010., 2008., 2020.])"
      ]
     },
     "execution_count": 87,
     "metadata": {},
     "output_type": "execute_result"
    }
   ],
   "source": [
    "df_amazon_raw['year'].unique()"
   ]
  },
  {
   "cell_type": "code",
   "execution_count": 91,
   "id": "b682d123-48ad-45d9-936b-dc47d869848c",
   "metadata": {},
   "outputs": [
    {
     "data": {
      "text/plain": [
       "16"
      ]
     },
     "execution_count": 91,
     "metadata": {},
     "output_type": "execute_result"
    }
   ],
   "source": [
    "df_amazon_raw['year'].nunique()"
   ]
  },
  {
   "cell_type": "markdown",
   "id": "bb8778e7-2d55-49ed-81be-9c2ce515e15f",
   "metadata": {},
   "source": [
    "Contemplando um total de 16 anos de dados 2008 : 2023"
   ]
  },
  {
   "cell_type": "code",
   "execution_count": 107,
   "id": "ecc3fb71-ce18-4290-89d2-2a74a21c461c",
   "metadata": {},
   "outputs": [
    {
     "data": {
      "text/plain": [
       "array(['d2021', 'd2015', 'corte raso com solo exposto',\n",
       "       'corte raso com vegetação', 'd2011', 'mineração', 'd2012', 'd2013',\n",
       "       'd2019', 'd2018', 'desmatamento por degradação progressiva',\n",
       "       'd2017', 'd2016', 'd2009', 'd2014', 'd2010', 'd2008', 'd2020',\n",
       "       'floresta inundada', 'd2022'], dtype=object)"
      ]
     },
     "execution_count": 107,
     "metadata": {},
     "output_type": "execute_result"
    }
   ],
   "source": [
    "df_amazon_raw['sub_class'].unique()"
   ]
  },
  {
   "cell_type": "markdown",
   "id": "a0433fc7-0863-4abd-b7d8-0c3b29113fd9",
   "metadata": {},
   "source": [
    "Muito embora algumas das sub classes sejam de entendimento intuitivo, como corte raso com solo exposto, é necessário a obtençao dos metadados para entendimento correto do que se trata subclasses como d2021"
   ]
  },
  {
   "cell_type": "code",
   "execution_count": null,
   "id": "1d6ce028-db3e-4b49-b285-f57b6e86e3ee",
   "metadata": {},
   "outputs": [],
   "source": []
  }
 ],
 "metadata": {
  "kernelspec": {
   "display_name": "Python 3 (ipykernel)",
   "language": "python",
   "name": "python3"
  },
  "language_info": {
   "codemirror_mode": {
    "name": "ipython",
    "version": 3
   },
   "file_extension": ".py",
   "mimetype": "text/x-python",
   "name": "python",
   "nbconvert_exporter": "python",
   "pygments_lexer": "ipython3",
   "version": "3.12.4"
  }
 },
 "nbformat": 4,
 "nbformat_minor": 5
}
